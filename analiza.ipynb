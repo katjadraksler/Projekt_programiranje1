{
 "cells": [
  {
   "cell_type": "markdown",
   "metadata": {},
   "source": [
    "# Najpopularnejše knjige 20. in 21. stoletja"
   ]
  },
  {
   "cell_type": "markdown",
   "metadata": {},
   "source": [
    "## Uvod"
   ]
  },
  {
   "cell_type": "markdown",
   "metadata": {},
   "source": [
    "Za projektno nalogo sem iz spletne strani https://www.goodreads.com/ zbrala podatke o najpopularnejših knjigah 20. stoletja in 21. stoletja.\n",
    "Podatki temeljijo zgolj na ocenah obiskovalcev te spletne strani.\n",
    "Podatki so zbrani v dveh datotekah\n",
    " - vse-knjige-20-stoletja.csv\n",
    " - vse-knjige-21-stoletja.csv\n"
   ]
  },
  {
   "cell_type": "markdown",
   "metadata": {},
   "source": [
    "Za vsako knjigo sem zajela sledeče podatke:\n",
    "- id knjige\n",
    "- naslov knjige\n",
    "- avtor knjige\n",
    "- povprečna ocena knjige\n",
    "- število ocen\n",
    "- score knjige (skupen rezultat)\n",
    "    \n"
   ]
  },
  {
   "cell_type": "markdown",
   "metadata": {},
   "source": [
    "## Analiza"
   ]
  },
  {
   "cell_type": "markdown",
   "metadata": {},
   "source": [
    "Najprej naložimo razpredelnico s katero bomo delali."
   ]
  },
  {
   "cell_type": "code",
   "execution_count": 4,
   "metadata": {
    "collapsed": true
   },
   "outputs": [],
   "source": [
    "import pandas as pd\n",
    "import numpy as np\n",
    "knjige20 = pd.read_csv('obdelani-podatki/vse-knjige-20-stoletja.csv', index_col='id')\n",
    "knjige21 = pd.read_csv('obdelani-podatki/vse-knjige-21-stoletja.csv', index_col='id')\n",
    "pd.options.display.max_rows = 12\n",
    "%matplotlib inline"
   ]
  },
  {
   "cell_type": "markdown",
   "metadata": {},
   "source": [
    "Ali je povprečna ocena višja pri knjigah 20. stoletja ali 21. stoletja?"
   ]
  },
  {
   "cell_type": "code",
   "execution_count": 5,
   "metadata": {},
   "outputs": [
    {
     "data": {
      "text/plain": [
       "4.0565165165165169"
      ]
     },
     "execution_count": 5,
     "metadata": {},
     "output_type": "execute_result"
    }
   ],
   "source": [
    "knjige20.povprecna_ocena.mean()"
   ]
  },
  {
   "cell_type": "code",
   "execution_count": 6,
   "metadata": {},
   "outputs": [
    {
     "data": {
      "text/plain": [
       "4.0079799999999999"
      ]
     },
     "execution_count": 6,
     "metadata": {},
     "output_type": "execute_result"
    }
   ],
   "source": [
    "knjige21.povprecna_ocena.mean()"
   ]
  },
  {
   "cell_type": "markdown",
   "metadata": {},
   "source": [
    "Opazimo, da imajo knjige iz 20. stoletja v povprečju višjo oceno."
   ]
  },
  {
   "cell_type": "markdown",
   "metadata": {},
   "source": [
    "Preštejmo koliko knjig ima povprečno oceno višjo od 4,5 v vsakem seznamu posebaj."
   ]
  },
  {
   "cell_type": "code",
   "execution_count": 7,
   "metadata": {},
   "outputs": [
    {
     "data": {
      "text/plain": [
       "13"
      ]
     },
     "execution_count": 7,
     "metadata": {},
     "output_type": "execute_result"
    }
   ],
   "source": [
    "knjige20[knjige20.povprecna_ocena >= 4.5].naslov.count()"
   ]
  },
  {
   "cell_type": "code",
   "execution_count": 8,
   "metadata": {},
   "outputs": [
    {
     "data": {
      "text/plain": [
       "38"
      ]
     },
     "execution_count": 8,
     "metadata": {},
     "output_type": "execute_result"
    }
   ],
   "source": [
    "knjige21[knjige21.povprecna_ocena >= 4.5].naslov.count()"
   ]
  },
  {
   "cell_type": "markdown",
   "metadata": {},
   "source": [
    "Preštejmo koliko knjig je napisal vsak izmed avtorjev. V ta namen seznama združimo, razvrstimo knjige po avtorjih in preštejemo koliko knjig je napisal vsak avtor."
   ]
  },
  {
   "cell_type": "code",
   "execution_count": 9,
   "metadata": {
    "scrolled": true
   },
   "outputs": [
    {
     "data": {
      "text/plain": [
       "avtor\n",
       "A.A. Milne          2\n",
       "A.J. Jacobs         1\n",
       "A.S. Byatt          2\n",
       "Abraham Verghese    1\n",
       "Adam Johnson        1\n",
       "Adolf Hitler        1\n",
       "Agatha Christie     7\n",
       "Alan Bennett        1\n",
       "dtype: int64"
      ]
     },
     "execution_count": 9,
     "metadata": {},
     "output_type": "execute_result"
    }
   ],
   "source": [
    "vse_knjige = knjige20.append(knjige21)\n",
    "knjige_po_avtorjih = vse_knjige.groupby('avtor')\n",
    "knjige_po_avtorjih.size().head(8)"
   ]
  },
  {
   "cell_type": "markdown",
   "metadata": {},
   "source": [
    "Kateri avtorji so napisali največ knjig na seznamu? Tem avtorjem bomo rekli najbolj brani avtorji. \n",
    "Rezultat za prvih 15 najbolj branih avtorjev predstavimo v stolpičnem diagramu."
   ]
  },
  {
   "cell_type": "code",
   "execution_count": 10,
   "metadata": {},
   "outputs": [
    {
     "data": {
      "text/plain": [
       "<matplotlib.axes._subplots.AxesSubplot at 0x7490710>"
      ]
     },
     "execution_count": 10,
     "metadata": {},
     "output_type": "execute_result"
    },
    {
     "data": {
      "image/png": "[encoded data removed]",
      "text/plain": [
       "<matplotlib.figure.Figure at 0x745fc10>"
      ]
     },
     "metadata": {},
     "output_type": "display_data"
    }
   ],
   "source": [
    "knjige_po_avtorjih = vse_knjige.groupby('avtor')\n",
    "st_razlicnih_avtorjev = knjige_po_avtorjih.size().count()\n",
    "graf_avtorji = knjige_po_avtorjih.size().sort_values(\n",
    "    ascending=False).head(st_razlicnih_avtorjev).head(15)\n",
    "graf_avtorji.sort_values(ascending=False).plot(kind='bar', title = 'Število knjig, ki so jih napisali najbolj brani avtorji')"
   ]
  },
  {
   "cell_type": "markdown",
   "metadata": {},
   "source": [
    "Vidimo, da je najbolj priljubljen avtor Stephen King. Podrobneje si poglejmo knjige, ki jih je napisal."
   ]
  },
  {
   "cell_type": "code",
   "execution_count": 64,
   "metadata": {},
   "outputs": [
    {
     "data": {
      "text/html": [
       "<div>\n",
       "<style>\n",
       "    .dataframe thead tr:only-child th {\n",
       "        text-align: right;\n",
       "    }\n",
       "\n",
       "    .dataframe thead th {\n",
       "        text-align: left;\n",
       "    }\n",
       "\n",
       "    .dataframe tbody tr th {\n",
       "        vertical-align: top;\n",
       "    }\n",
       "</style>\n",
       "<table border=\"1\" class=\"dataframe\">\n",
       "  <thead>\n",
       "    <tr style=\"text-align: right;\">\n",
       "      <th></th>\n",
       "      <th>naslov</th>\n",
       "      <th>avtor</th>\n",
       "      <th>povprecna_ocena</th>\n",
       "      <th>st_ocen</th>\n",
       "      <th>score</th>\n",
       "    </tr>\n",
       "    <tr>\n",
       "      <th>id</th>\n",
       "      <th></th>\n",
       "      <th></th>\n",
       "      <th></th>\n",
       "      <th></th>\n",
       "      <th></th>\n",
       "    </tr>\n",
       "  </thead>\n",
       "  <tbody>\n",
       "    <tr>\n",
       "      <th>11566</th>\n",
       "      <td>The Green Mile</td>\n",
       "      <td>Stephen King</td>\n",
       "      <td>4.43</td>\n",
       "      <td>212217</td>\n",
       "      <td>8.374</td>\n",
       "    </tr>\n",
       "    <tr>\n",
       "      <th>39662</th>\n",
       "      <td>Different Seasons</td>\n",
       "      <td>Stephen King</td>\n",
       "      <td>4.35</td>\n",
       "      <td>152194</td>\n",
       "      <td>10.881</td>\n",
       "    </tr>\n",
       "    <tr>\n",
       "      <th>149267</th>\n",
       "      <td>The Stand</td>\n",
       "      <td>Stephen King</td>\n",
       "      <td>4.34</td>\n",
       "      <td>525794</td>\n",
       "      <td>129.000</td>\n",
       "    </tr>\n",
       "    <tr>\n",
       "      <th>10569</th>\n",
       "      <td>On Writing: A Memoir of the Craft</td>\n",
       "      <td>Stephen King</td>\n",
       "      <td>4.32</td>\n",
       "      <td>178476</td>\n",
       "      <td>1.244</td>\n",
       "    </tr>\n",
       "    <tr>\n",
       "      <th>10644930</th>\n",
       "      <td>11/22/63</td>\n",
       "      <td>Stephen King</td>\n",
       "      <td>4.30</td>\n",
       "      <td>346741</td>\n",
       "      <td>14.289</td>\n",
       "    </tr>\n",
       "    <tr>\n",
       "      <th>5091</th>\n",
       "      <td>The Dark Tower</td>\n",
       "      <td>Stephen King</td>\n",
       "      <td>4.28</td>\n",
       "      <td>121282</td>\n",
       "      <td>1.194</td>\n",
       "    </tr>\n",
       "    <tr>\n",
       "      <th>830502</th>\n",
       "      <td>It</td>\n",
       "      <td>Stephen King</td>\n",
       "      <td>4.22</td>\n",
       "      <td>617027</td>\n",
       "      <td>23.030</td>\n",
       "    </tr>\n",
       "    <tr>\n",
       "      <th>11588</th>\n",
       "      <td>The Shining</td>\n",
       "      <td>Stephen King</td>\n",
       "      <td>4.20</td>\n",
       "      <td>922227</td>\n",
       "      <td>32.042</td>\n",
       "    </tr>\n",
       "    <tr>\n",
       "      <th>4978</th>\n",
       "      <td>Wolves of the Calla</td>\n",
       "      <td>Stephen King</td>\n",
       "      <td>4.18</td>\n",
       "      <td>132049</td>\n",
       "      <td>818.000</td>\n",
       "    </tr>\n",
       "    <tr>\n",
       "      <th>12341557</th>\n",
       "      <td>The Wind Through the Keyhole</td>\n",
       "      <td>Stephen King</td>\n",
       "      <td>4.15</td>\n",
       "      <td>55193</td>\n",
       "      <td>800.000</td>\n",
       "    </tr>\n",
       "  </tbody>\n",
       "</table>\n",
       "</div>"
      ],
      "text/plain": [
       "                                     naslov         avtor  povprecna_ocena  \\\n",
       "id                                                                           \n",
       "11566                        The Green Mile  Stephen King             4.43   \n",
       "39662                     Different Seasons  Stephen King             4.35   \n",
       "149267                            The Stand  Stephen King             4.34   \n",
       "10569     On Writing: A Memoir of the Craft  Stephen King             4.32   \n",
       "10644930                           11/22/63  Stephen King             4.30   \n",
       "5091                         The Dark Tower  Stephen King             4.28   \n",
       "830502                                   It  Stephen King             4.22   \n",
       "11588                           The Shining  Stephen King             4.20   \n",
       "4978                    Wolves of the Calla  Stephen King             4.18   \n",
       "12341557       The Wind Through the Keyhole  Stephen King             4.15   \n",
       "\n",
       "          st_ocen    score  \n",
       "id                          \n",
       "11566      212217    8.374  \n",
       "39662      152194   10.881  \n",
       "149267     525794  129.000  \n",
       "10569      178476    1.244  \n",
       "10644930   346741   14.289  \n",
       "5091       121282    1.194  \n",
       "830502     617027   23.030  \n",
       "11588      922227   32.042  \n",
       "4978       132049  818.000  \n",
       "12341557    55193  800.000  "
      ]
     },
     "execution_count": 64,
     "metadata": {},
     "output_type": "execute_result"
    }
   ],
   "source": [
    "Stephen_King = vse_knjige[vse_knjige.avtor == 'Stephen King'].sort_values('povprecna_ocena', ascending=False)\n",
    "Stephen_King.head(10)"
   ]
  },
  {
   "cell_type": "markdown",
   "metadata": {},
   "source": [
    "Poglejmi si povprečno oceno in score vseh knjih, ki jih je napisal Stephen King. Koliko ljudi je ocenilo njegove knjige? "
   ]
  },
  {
   "cell_type": "code",
   "execution_count": 12,
   "metadata": {},
   "outputs": [
    {
     "data": {
      "text/plain": [
       "4.0084848484848488"
      ]
     },
     "execution_count": 12,
     "metadata": {},
     "output_type": "execute_result"
    }
   ],
   "source": [
    "Stephen_King.povprecna_ocena.mean() "
   ]
  },
  {
   "cell_type": "code",
   "execution_count": 13,
   "metadata": {},
   "outputs": [
    {
     "data": {
      "text/plain": [
       "144.04399999999998"
      ]
     },
     "execution_count": 13,
     "metadata": {},
     "output_type": "execute_result"
    }
   ],
   "source": [
    "Stephen_King.score.mean()"
   ]
  },
  {
   "cell_type": "code",
   "execution_count": 14,
   "metadata": {},
   "outputs": [
    {
     "data": {
      "text/plain": [
       "st_ocen    7438781\n",
       "dtype: object"
      ]
     },
     "execution_count": 14,
     "metadata": {},
     "output_type": "execute_result"
    }
   ],
   "source": [
    "vse_knjige[vse_knjige.avtor == 'Stephen King'].sum()[['st_ocen']]"
   ]
  },
  {
   "cell_type": "code",
   "execution_count": 15,
   "metadata": {},
   "outputs": [
    {
     "data": {
      "text/plain": [
       "<matplotlib.axes._subplots.AxesSubplot at 0x7521df0>"
      ]
     },
     "execution_count": 15,
     "metadata": {},
     "output_type": "execute_result"
    },
    {
     "data": {
      "image/png": "[encoded data removed]",
      "text/plain": [
       "<matplotlib.figure.Figure at 0x74da6f0>"
      ]
     },
     "metadata": {},
     "output_type": "display_data"
    }
   ],
   "source": [
    "Stephen_King.plot.bar('naslov', 'st_ocen')"
   ]
  },
  {
   "cell_type": "markdown",
   "metadata": {},
   "source": [
    "Povprečna ocena knjig Stephana Kinga je 4.0085, povprečen score je 144.04. Skupno je njegove knjige ocenilo 7438781 ljudi, podatki o številu ocen za vsako knjigo posebaj so predstavljeni v zgornjem grafu."
   ]
  },
  {
   "cell_type": "markdown",
   "metadata": {},
   "source": [
    "Povprečno oceno in povprečen score del posameznega avtorja predstavimo v spodnjih tabelah."
   ]
  },
  {
   "cell_type": "code",
   "execution_count": 16,
   "metadata": {},
   "outputs": [
    {
     "data": {
      "text/html": [
       "<div>\n",
       "<style>\n",
       "    .dataframe thead tr:only-child th {\n",
       "        text-align: right;\n",
       "    }\n",
       "\n",
       "    .dataframe thead th {\n",
       "        text-align: left;\n",
       "    }\n",
       "\n",
       "    .dataframe tbody tr th {\n",
       "        vertical-align: top;\n",
       "    }\n",
       "</style>\n",
       "<table border=\"1\" class=\"dataframe\">\n",
       "  <thead>\n",
       "    <tr style=\"text-align: right;\">\n",
       "      <th></th>\n",
       "      <th>povprecna_ocena</th>\n",
       "      <th>score</th>\n",
       "    </tr>\n",
       "    <tr>\n",
       "      <th>avtor</th>\n",
       "      <th></th>\n",
       "      <th></th>\n",
       "    </tr>\n",
       "  </thead>\n",
       "  <tbody>\n",
       "    <tr>\n",
       "      <th>A.A. Milne</th>\n",
       "      <td>4.350000</td>\n",
       "      <td>31.024500</td>\n",
       "    </tr>\n",
       "    <tr>\n",
       "      <th>A.J. Jacobs</th>\n",
       "      <td>3.760000</td>\n",
       "      <td>402.000000</td>\n",
       "    </tr>\n",
       "    <tr>\n",
       "      <th>A.S. Byatt</th>\n",
       "      <td>3.775000</td>\n",
       "      <td>487.769500</td>\n",
       "    </tr>\n",
       "    <tr>\n",
       "      <th>Abraham Verghese</th>\n",
       "      <td>4.280000</td>\n",
       "      <td>14.328000</td>\n",
       "    </tr>\n",
       "    <tr>\n",
       "      <th>Adam Johnson</th>\n",
       "      <td>4.070000</td>\n",
       "      <td>2.369000</td>\n",
       "    </tr>\n",
       "    <tr>\n",
       "      <th>Adolf Hitler</th>\n",
       "      <td>3.150000</td>\n",
       "      <td>1.422000</td>\n",
       "    </tr>\n",
       "    <tr>\n",
       "      <th>Agatha Christie</th>\n",
       "      <td>4.114286</td>\n",
       "      <td>143.769714</td>\n",
       "    </tr>\n",
       "    <tr>\n",
       "      <th>Alan Bennett</th>\n",
       "      <td>3.810000</td>\n",
       "      <td>679.000000</td>\n",
       "    </tr>\n",
       "  </tbody>\n",
       "</table>\n",
       "</div>"
      ],
      "text/plain": [
       "                  povprecna_ocena       score\n",
       "avtor                                        \n",
       "A.A. Milne               4.350000   31.024500\n",
       "A.J. Jacobs              3.760000  402.000000\n",
       "A.S. Byatt               3.775000  487.769500\n",
       "Abraham Verghese         4.280000   14.328000\n",
       "Adam Johnson             4.070000    2.369000\n",
       "Adolf Hitler             3.150000    1.422000\n",
       "Agatha Christie          4.114286  143.769714\n",
       "Alan Bennett             3.810000  679.000000"
      ]
     },
     "execution_count": 16,
     "metadata": {},
     "output_type": "execute_result"
    }
   ],
   "source": [
    "povprecje_po_avtorjih = knjige_po_avtorjih.mean()[['povprecna_ocena', 'score']]\n",
    "povprecje_po_avtorjih.head(8)"
   ]
  },
  {
   "cell_type": "code",
   "execution_count": 17,
   "metadata": {},
   "outputs": [
    {
     "data": {
      "text/html": [
       "<div>\n",
       "<style>\n",
       "    .dataframe thead tr:only-child th {\n",
       "        text-align: right;\n",
       "    }\n",
       "\n",
       "    .dataframe thead th {\n",
       "        text-align: left;\n",
       "    }\n",
       "\n",
       "    .dataframe tbody tr th {\n",
       "        vertical-align: top;\n",
       "    }\n",
       "</style>\n",
       "<table border=\"1\" class=\"dataframe\">\n",
       "  <thead>\n",
       "    <tr style=\"text-align: right;\">\n",
       "      <th></th>\n",
       "      <th>st_ocen</th>\n",
       "    </tr>\n",
       "    <tr>\n",
       "      <th>avtor</th>\n",
       "      <th></th>\n",
       "    </tr>\n",
       "  </thead>\n",
       "  <tbody>\n",
       "    <tr>\n",
       "      <th>A.A. Milne</th>\n",
       "      <td>305697</td>\n",
       "    </tr>\n",
       "    <tr>\n",
       "      <th>A.J. Jacobs</th>\n",
       "      <td>56995</td>\n",
       "    </tr>\n",
       "    <tr>\n",
       "      <th>A.S. Byatt</th>\n",
       "      <td>77771</td>\n",
       "    </tr>\n",
       "    <tr>\n",
       "      <th>Abraham Verghese</th>\n",
       "      <td>309233</td>\n",
       "    </tr>\n",
       "    <tr>\n",
       "      <th>Adam Johnson</th>\n",
       "      <td>74558</td>\n",
       "    </tr>\n",
       "    <tr>\n",
       "      <th>Adolf Hitler</th>\n",
       "      <td>27445</td>\n",
       "    </tr>\n",
       "    <tr>\n",
       "      <th>Agatha Christie</th>\n",
       "      <td>1377246</td>\n",
       "    </tr>\n",
       "    <tr>\n",
       "      <th>Alan Bennett</th>\n",
       "      <td>26842</td>\n",
       "    </tr>\n",
       "  </tbody>\n",
       "</table>\n",
       "</div>"
      ],
      "text/plain": [
       "                  st_ocen\n",
       "avtor                    \n",
       "A.A. Milne         305697\n",
       "A.J. Jacobs         56995\n",
       "A.S. Byatt          77771\n",
       "Abraham Verghese   309233\n",
       "Adam Johnson        74558\n",
       "Adolf Hitler        27445\n",
       "Agatha Christie   1377246\n",
       "Alan Bennett        26842"
      ]
     },
     "execution_count": 17,
     "metadata": {},
     "output_type": "execute_result"
    }
   ],
   "source": [
    "skupno_st_glasov_po_avtorjih = knjige_po_avtorjih.sum()[['st_ocen']]\n",
    "skupno_st_glasov_po_avtorjih.head(8)"
   ]
  },
  {
   "cell_type": "markdown",
   "metadata": {},
   "source": [
    "Katere avtorja je ocenilo največ ljudi? Poglejmo si prvih 15 avtorjev."
   ]
  },
  {
   "cell_type": "code",
   "execution_count": 43,
   "metadata": {},
   "outputs": [
    {
     "name": "stderr",
     "output_type": "stream",
     "text": [
      "c:\\program files (x86)\\python36-32\\lib\\site-packages\\ipykernel_launcher.py:1: UserWarning: Boolean Series key will be reindexed to match DataFrame index.\n",
      "  \"\"\"Entry point for launching an IPython kernel.\n"
     ]
    },
    {
     "data": {
      "text/html": [
       "<div>\n",
       "<style>\n",
       "    .dataframe thead tr:only-child th {\n",
       "        text-align: right;\n",
       "    }\n",
       "\n",
       "    .dataframe thead th {\n",
       "        text-align: left;\n",
       "    }\n",
       "\n",
       "    .dataframe tbody tr th {\n",
       "        vertical-align: top;\n",
       "    }\n",
       "</style>\n",
       "<table border=\"1\" class=\"dataframe\">\n",
       "  <thead>\n",
       "    <tr style=\"text-align: right;\">\n",
       "      <th></th>\n",
       "      <th>st_ocen</th>\n",
       "    </tr>\n",
       "    <tr>\n",
       "      <th>avtor</th>\n",
       "      <th></th>\n",
       "    </tr>\n",
       "  </thead>\n",
       "  <tbody>\n",
       "    <tr>\n",
       "      <th>J.K. Rowling</th>\n",
       "      <td>19315567</td>\n",
       "    </tr>\n",
       "    <tr>\n",
       "      <th>Suzanne Collins</th>\n",
       "      <td>9863382</td>\n",
       "    </tr>\n",
       "    <tr>\n",
       "      <th>Stephenie Meyer</th>\n",
       "      <td>9102296</td>\n",
       "    </tr>\n",
       "    <tr>\n",
       "      <th>Dan Brown</th>\n",
       "      <td>8156273</td>\n",
       "    </tr>\n",
       "    <tr>\n",
       "      <th>Harper Lee</th>\n",
       "      <td>7718237</td>\n",
       "    </tr>\n",
       "    <tr>\n",
       "      <th>Stephen King</th>\n",
       "      <td>7438781</td>\n",
       "    </tr>\n",
       "    <tr>\n",
       "      <th>...</th>\n",
       "      <td>...</td>\n",
       "    </tr>\n",
       "    <tr>\n",
       "      <th>J.D. Salinger</th>\n",
       "      <td>5039480</td>\n",
       "    </tr>\n",
       "    <tr>\n",
       "      <th>Cassandra Clare</th>\n",
       "      <td>4974816</td>\n",
       "    </tr>\n",
       "    <tr>\n",
       "      <th>George Orwell</th>\n",
       "      <td>4902049</td>\n",
       "    </tr>\n",
       "    <tr>\n",
       "      <th>C.S. Lewis</th>\n",
       "      <td>4534490</td>\n",
       "    </tr>\n",
       "    <tr>\n",
       "      <th>Veronica Roth</th>\n",
       "      <td>4337836</td>\n",
       "    </tr>\n",
       "    <tr>\n",
       "      <th>Nicholas Sparks</th>\n",
       "      <td>4047131</td>\n",
       "    </tr>\n",
       "  </tbody>\n",
       "</table>\n",
       "<p>15 rows × 1 columns</p>\n",
       "</div>"
      ],
      "text/plain": [
       "                  st_ocen\n",
       "avtor                    \n",
       "J.K. Rowling     19315567\n",
       "Suzanne Collins   9863382\n",
       "Stephenie Meyer   9102296\n",
       "Dan Brown         8156273\n",
       "Harper Lee        7718237\n",
       "Stephen King      7438781\n",
       "...                   ...\n",
       "J.D. Salinger     5039480\n",
       "Cassandra Clare   4974816\n",
       "George Orwell     4902049\n",
       "C.S. Lewis        4534490\n",
       "Veronica Roth     4337836\n",
       "Nicholas Sparks   4047131\n",
       "\n",
       "[15 rows x 1 columns]"
      ]
     },
     "execution_count": 43,
     "metadata": {},
     "output_type": "execute_result"
    }
   ],
   "source": [
    "najvec_ocen = skupno_st_glasov_po_avtorjih.sort_values('st_ocen', ascending=False)[(skupno_st_glasov_po_avtorjih.st_ocen > 4047130)]\n",
    "najvec_ocen"
   ]
  },
  {
   "cell_type": "code",
   "execution_count": 41,
   "metadata": {},
   "outputs": [
    {
     "data": {
      "text/plain": [
       "<matplotlib.axes._subplots.AxesSubplot at 0xec5e90>"
      ]
     },
     "execution_count": 41,
     "metadata": {},
     "output_type": "execute_result"
    },
    {
     "data": {
      "image/png": "[encoded data removed]",
      "text/plain": [
       "<matplotlib.figure.Figure at 0xed2db0>"
      ]
     },
     "metadata": {},
     "output_type": "display_data"
    }
   ],
   "source": [
    "najvec_ocen.plot(kind='bar', title = 'Avtorji z največjim številom glasov')"
   ]
  },
  {
   "cell_type": "markdown",
   "metadata": {},
   "source": [
    "Največ ljudi je ocenilo pisateljico J.K.Rowling. Podrobneje si poglejmo še njena dela."
   ]
  },
  {
   "cell_type": "code",
   "execution_count": null,
   "metadata": {
    "collapsed": true
   },
   "outputs": [],
   "source": [
    "V zgornji tabeli razberemo, da so njena dela skupno prejela 19315567 ocen."
   ]
  },
  {
   "cell_type": "code",
   "execution_count": 49,
   "metadata": {},
   "outputs": [
    {
     "data": {
      "text/html": [
       "<div>\n",
       "<style>\n",
       "    .dataframe thead tr:only-child th {\n",
       "        text-align: right;\n",
       "    }\n",
       "\n",
       "    .dataframe thead th {\n",
       "        text-align: left;\n",
       "    }\n",
       "\n",
       "    .dataframe tbody tr th {\n",
       "        vertical-align: top;\n",
       "    }\n",
       "</style>\n",
       "<table border=\"1\" class=\"dataframe\">\n",
       "  <thead>\n",
       "    <tr style=\"text-align: right;\">\n",
       "      <th></th>\n",
       "      <th>naslov</th>\n",
       "      <th>avtor</th>\n",
       "      <th>povprecna_ocena</th>\n",
       "      <th>st_ocen</th>\n",
       "      <th>score</th>\n",
       "    </tr>\n",
       "    <tr>\n",
       "      <th>id</th>\n",
       "      <th></th>\n",
       "      <th></th>\n",
       "      <th></th>\n",
       "      <th></th>\n",
       "      <th></th>\n",
       "    </tr>\n",
       "  </thead>\n",
       "  <tbody>\n",
       "    <tr>\n",
       "      <th>3</th>\n",
       "      <td>Harry Potter and the Sorcerer's Stone</td>\n",
       "      <td>J.K. Rowling</td>\n",
       "      <td>4.46</td>\n",
       "      <td>5621523</td>\n",
       "      <td>666.000</td>\n",
       "    </tr>\n",
       "    <tr>\n",
       "      <th>5</th>\n",
       "      <td>Harry Potter and the Prisoner of Azkaban</td>\n",
       "      <td>J.K. Rowling</td>\n",
       "      <td>4.55</td>\n",
       "      <td>2228890</td>\n",
       "      <td>277.000</td>\n",
       "    </tr>\n",
       "    <tr>\n",
       "      <th>15881</th>\n",
       "      <td>Harry Potter and the Chamber of Secrets</td>\n",
       "      <td>J.K. Rowling</td>\n",
       "      <td>4.40</td>\n",
       "      <td>2174931</td>\n",
       "      <td>193.000</td>\n",
       "    </tr>\n",
       "    <tr>\n",
       "      <th>6</th>\n",
       "      <td>Harry Potter and the Goblet of Fire</td>\n",
       "      <td>J.K. Rowling</td>\n",
       "      <td>4.54</td>\n",
       "      <td>2088537</td>\n",
       "      <td>17.167</td>\n",
       "    </tr>\n",
       "    <tr>\n",
       "      <th>862041</th>\n",
       "      <td>Harry Potter Series Box Set</td>\n",
       "      <td>J.K. Rowling</td>\n",
       "      <td>4.74</td>\n",
       "      <td>222743</td>\n",
       "      <td>6.139</td>\n",
       "    </tr>\n",
       "    <tr>\n",
       "      <th>136251</th>\n",
       "      <td>Harry Potter and the Deathly Hallows</td>\n",
       "      <td>J.K. Rowling</td>\n",
       "      <td>4.62</td>\n",
       "      <td>2078078</td>\n",
       "      <td>385.000</td>\n",
       "    </tr>\n",
       "    <tr>\n",
       "      <th>1</th>\n",
       "      <td>Harry Potter and the Half-Blood Prince</td>\n",
       "      <td>J.K. Rowling</td>\n",
       "      <td>4.55</td>\n",
       "      <td>2000730</td>\n",
       "      <td>215.000</td>\n",
       "    </tr>\n",
       "    <tr>\n",
       "      <th>2</th>\n",
       "      <td>Harry Potter and the Order of the Phoenix</td>\n",
       "      <td>J.K. Rowling</td>\n",
       "      <td>4.48</td>\n",
       "      <td>2050942</td>\n",
       "      <td>195.000</td>\n",
       "    </tr>\n",
       "    <tr>\n",
       "      <th>862041</th>\n",
       "      <td>Harry Potter Series Box Set</td>\n",
       "      <td>J.K. Rowling</td>\n",
       "      <td>4.74</td>\n",
       "      <td>222739</td>\n",
       "      <td>99.807</td>\n",
       "    </tr>\n",
       "    <tr>\n",
       "      <th>3950967</th>\n",
       "      <td>The Tales of Beedle the Bard</td>\n",
       "      <td>J.K. Rowling</td>\n",
       "      <td>4.07</td>\n",
       "      <td>351349</td>\n",
       "      <td>7.744</td>\n",
       "    </tr>\n",
       "    <tr>\n",
       "      <th>13497818</th>\n",
       "      <td>The Casual Vacancy</td>\n",
       "      <td>J.K. Rowling</td>\n",
       "      <td>3.29</td>\n",
       "      <td>275105</td>\n",
       "      <td>2.366</td>\n",
       "    </tr>\n",
       "  </tbody>\n",
       "</table>\n",
       "</div>"
      ],
      "text/plain": [
       "                                             naslov         avtor  \\\n",
       "id                                                                  \n",
       "3             Harry Potter and the Sorcerer's Stone  J.K. Rowling   \n",
       "5          Harry Potter and the Prisoner of Azkaban  J.K. Rowling   \n",
       "15881       Harry Potter and the Chamber of Secrets  J.K. Rowling   \n",
       "6               Harry Potter and the Goblet of Fire  J.K. Rowling   \n",
       "862041                  Harry Potter Series Box Set  J.K. Rowling   \n",
       "136251         Harry Potter and the Deathly Hallows  J.K. Rowling   \n",
       "1            Harry Potter and the Half-Blood Prince  J.K. Rowling   \n",
       "2         Harry Potter and the Order of the Phoenix  J.K. Rowling   \n",
       "862041                  Harry Potter Series Box Set  J.K. Rowling   \n",
       "3950967                The Tales of Beedle the Bard  J.K. Rowling   \n",
       "13497818                         The Casual Vacancy  J.K. Rowling   \n",
       "\n",
       "          povprecna_ocena  st_ocen    score  \n",
       "id                                           \n",
       "3                    4.46  5621523  666.000  \n",
       "5                    4.55  2228890  277.000  \n",
       "15881                4.40  2174931  193.000  \n",
       "6                    4.54  2088537   17.167  \n",
       "862041               4.74   222743    6.139  \n",
       "136251               4.62  2078078  385.000  \n",
       "1                    4.55  2000730  215.000  \n",
       "2                    4.48  2050942  195.000  \n",
       "862041               4.74   222739   99.807  \n",
       "3950967              4.07   351349    7.744  \n",
       "13497818             3.29   275105    2.366  "
      ]
     },
     "execution_count": 49,
     "metadata": {},
     "output_type": "execute_result"
    }
   ],
   "source": [
    "J_K_Rowling = vse_knjige[vse_knjige.avtor == 'J.K. Rowling']\n",
    "J_K_Rowling"
   ]
  },
  {
   "cell_type": "code",
   "execution_count": 50,
   "metadata": {},
   "outputs": [
    {
     "data": {
      "text/plain": [
       "4.4036363636363642"
      ]
     },
     "execution_count": 50,
     "metadata": {},
     "output_type": "execute_result"
    }
   ],
   "source": [
    "J_K_Rowling.povprecna_ocena.mean() "
   ]
  },
  {
   "cell_type": "code",
   "execution_count": 51,
   "metadata": {},
   "outputs": [
    {
     "data": {
      "text/plain": [
       "187.65663636363635"
      ]
     },
     "execution_count": 51,
     "metadata": {},
     "output_type": "execute_result"
    }
   ],
   "source": [
    "J_K_Rowling.score.mean()"
   ]
  },
  {
   "cell_type": "markdown",
   "metadata": {},
   "source": [
    "Povprečna ocena njenih del je 4,404 povprečen score pa 187,66."
   ]
  },
  {
   "cell_type": "markdown",
   "metadata": {},
   "source": [
    "Poskusimo glede na naše želje najti najboljše knjige 20. in 21. stoletja. Za kriterij upoštevamo povprečno oceno, score in število ocen.\n",
    "V ta namen definiramo funkcijo, ki nam vrne seznam dobrih oziroma slabih knjig glede na naše želje."
   ]
  },
  {
   "cell_type": "code",
   "execution_count": 18,
   "metadata": {
    "collapsed": true
   },
   "outputs": [],
   "source": [
    "def kriterij_dobre_knjige21 (score, ocena, st_oc):\n",
    "    return knjige21[(knjige21.score > score) & \n",
    "                          (knjige21.povprecna_ocena > ocena) &\n",
    "                          (knjige21.st_ocen > st_oc)]\n",
    "\n",
    "def kriterij_dobre_knjige20 (score, ocena, st_oc):\n",
    "    return knjige20[(knjige20.score > score) & \n",
    "                          (knjige20.povprecna_ocena > ocena) &\n",
    "                          (knjige20.st_ocen > st_oc)]\n",
    "def kriterij_dobre_knjige (score, ocena, st_oc):\n",
    "    return vse_knjige[(vse_knjige.score > score) & \n",
    "                          (vse_knjige.povprecna_ocena > ocena) &\n",
    "                          (vse_knjige.st_ocen > st_oc)]"
   ]
  },
  {
   "cell_type": "markdown",
   "metadata": {},
   "source": [
    "Denimo, da želimo najti vse knjige, ki imajo score višji od 400, povprečno oceno višjo od 4.5 in stevilo ocen visjo od 5000. "
   ]
  },
  {
   "cell_type": "code",
   "execution_count": 29,
   "metadata": {},
   "outputs": [
    {
     "data": {
      "text/html": [
       "<div>\n",
       "<style>\n",
       "    .dataframe thead tr:only-child th {\n",
       "        text-align: right;\n",
       "    }\n",
       "\n",
       "    .dataframe thead th {\n",
       "        text-align: left;\n",
       "    }\n",
       "\n",
       "    .dataframe tbody tr th {\n",
       "        vertical-align: top;\n",
       "    }\n",
       "</style>\n",
       "<table border=\"1\" class=\"dataframe\">\n",
       "  <thead>\n",
       "    <tr style=\"text-align: right;\">\n",
       "      <th></th>\n",
       "      <th>naslov</th>\n",
       "      <th>avtor</th>\n",
       "      <th>povprecna_ocena</th>\n",
       "      <th>st_ocen</th>\n",
       "      <th>score</th>\n",
       "    </tr>\n",
       "    <tr>\n",
       "      <th>id</th>\n",
       "      <th></th>\n",
       "      <th></th>\n",
       "      <th></th>\n",
       "      <th></th>\n",
       "      <th></th>\n",
       "    </tr>\n",
       "  </thead>\n",
       "  <tbody>\n",
       "    <tr>\n",
       "      <th>44234</th>\n",
       "      <td>The Civil War: A Narrative</td>\n",
       "      <td>Shelby Foote</td>\n",
       "      <td>4.52</td>\n",
       "      <td>6583</td>\n",
       "      <td>892.0</td>\n",
       "    </tr>\n",
       "    <tr>\n",
       "      <th>6585201</th>\n",
       "      <td>Changes</td>\n",
       "      <td>Jim Butcher</td>\n",
       "      <td>4.54</td>\n",
       "      <td>81434</td>\n",
       "      <td>945.0</td>\n",
       "    </tr>\n",
       "    <tr>\n",
       "      <th>32075671</th>\n",
       "      <td>The Hate U Give</td>\n",
       "      <td>Angie Thomas</td>\n",
       "      <td>4.56</td>\n",
       "      <td>205790</td>\n",
       "      <td>728.0</td>\n",
       "    </tr>\n",
       "    <tr>\n",
       "      <th>17927395</th>\n",
       "      <td>A Court of Mist and Fury</td>\n",
       "      <td>Sarah J. Maas</td>\n",
       "      <td>4.69</td>\n",
       "      <td>199152</td>\n",
       "      <td>726.0</td>\n",
       "    </tr>\n",
       "    <tr>\n",
       "      <th>18006496</th>\n",
       "      <td>Queen of Shadows</td>\n",
       "      <td>Sarah J. Maas</td>\n",
       "      <td>4.59</td>\n",
       "      <td>157786</td>\n",
       "      <td>640.0</td>\n",
       "    </tr>\n",
       "    <tr>\n",
       "      <th>12216302</th>\n",
       "      <td>Cold Days</td>\n",
       "      <td>Jim Butcher</td>\n",
       "      <td>4.51</td>\n",
       "      <td>73305</td>\n",
       "      <td>616.0</td>\n",
       "    </tr>\n",
       "    <tr>\n",
       "      <th>17332218</th>\n",
       "      <td>Words of Radiance</td>\n",
       "      <td>Brandon Sanderson</td>\n",
       "      <td>4.77</td>\n",
       "      <td>142492</td>\n",
       "      <td>532.0</td>\n",
       "    </tr>\n",
       "    <tr>\n",
       "      <th>28260587</th>\n",
       "      <td>Empire of Storms</td>\n",
       "      <td>Sarah J. Maas</td>\n",
       "      <td>4.57</td>\n",
       "      <td>115914</td>\n",
       "      <td>527.0</td>\n",
       "    </tr>\n",
       "  </tbody>\n",
       "</table>\n",
       "</div>"
      ],
      "text/plain": [
       "                              naslov              avtor  povprecna_ocena  \\\n",
       "id                                                                         \n",
       "44234     The Civil War: A Narrative       Shelby Foote             4.52   \n",
       "6585201                      Changes        Jim Butcher             4.54   \n",
       "32075671             The Hate U Give       Angie Thomas             4.56   \n",
       "17927395    A Court of Mist and Fury      Sarah J. Maas             4.69   \n",
       "18006496            Queen of Shadows      Sarah J. Maas             4.59   \n",
       "12216302                   Cold Days        Jim Butcher             4.51   \n",
       "17332218           Words of Radiance  Brandon Sanderson             4.77   \n",
       "28260587            Empire of Storms      Sarah J. Maas             4.57   \n",
       "\n",
       "          st_ocen  score  \n",
       "id                        \n",
       "44234        6583  892.0  \n",
       "6585201     81434  945.0  \n",
       "32075671   205790  728.0  \n",
       "17927395   199152  726.0  \n",
       "18006496   157786  640.0  \n",
       "12216302    73305  616.0  \n",
       "17332218   142492  532.0  \n",
       "28260587   115914  527.0  "
      ]
     },
     "execution_count": 29,
     "metadata": {},
     "output_type": "execute_result"
    }
   ],
   "source": [
    "kriterij_dobre_knjige(400, 4.5, 5000)"
   ]
  },
  {
   "cell_type": "markdown",
   "metadata": {
    "collapsed": true
   },
   "source": [
    "Ali obstaja povezava med povprecno oceno knjige in scorom knjige?"
   ]
  },
  {
   "cell_type": "code",
   "execution_count": 21,
   "metadata": {},
   "outputs": [
    {
     "data": {
      "text/plain": [
       "<matplotlib.axes._subplots.AxesSubplot at 0x8657c50>"
      ]
     },
     "execution_count": 21,
     "metadata": {},
     "output_type": "execute_result"
    },
    {
     "data": {
      "image/png": "[encoded data removed]",
      "text/plain": [
       "<matplotlib.figure.Figure at 0x86c5090>"
      ]
     },
     "metadata": {},
     "output_type": "display_data"
    }
   ],
   "source": [
    "vse_knjige.plot.scatter('povprecna_ocena', 'score')"
   ]
  },
  {
   "cell_type": "markdown",
   "metadata": {},
   "source": [
    "Vidimo, da je graf zelo razdrobljen. Imamo veliko odstopanj v podatkih."
   ]
  },
  {
   "cell_type": "markdown",
   "metadata": {},
   "source": [
    "Lahko poskusimo podatke filtrirati tako, da v graf vključimo le knjige, za katere je glasovalo vsaj 1.000.000 ljudi in s tem povečamo verodostojnost ocen. Tako se na primer izognemo knjigam, ki imajo visoko oceno, a je zanje glasovalo zelo malo ljudi."
   ]
  },
  {
   "cell_type": "code",
   "execution_count": 22,
   "metadata": {},
   "outputs": [
    {
     "data": {
      "text/plain": [
       "<matplotlib.axes._subplots.AxesSubplot at 0x86da4d0>"
      ]
     },
     "execution_count": 22,
     "metadata": {},
     "output_type": "execute_result"
    },
    {
     "data": {
      "image/png": "[encoded data removed]",
      "text/plain": [
       "<matplotlib.figure.Figure at 0x88292d0>"
      ]
     },
     "metadata": {},
     "output_type": "display_data"
    }
   ],
   "source": [
    "verodostojne_knjige = vse_knjige[(vse_knjige.st_ocen > 1000000)]\n",
    "verodostojne_knjige.plot.scatter('povprecna_ocena', 'score')"
   ]
  },
  {
   "cell_type": "markdown",
   "metadata": {},
   "source": [
    "Tudi po filtraciji podatkov je graf še vedno dokaj razdrobljen. Sklepamo, da ocena in score knjige nista povezana oziroma je score določen na podlagi drugih dejavnikov.\n",
    "Lahko pa spletna stran ne ponuja zanesljivih podatkov."
   ]
  }
 ],
 "metadata": {
  "kernelspec": {
   "display_name": "Python 3",
   "language": "python",
   "name": "python3"
  },
  "language_info": {
   "codemirror_mode": {
    "name": "ipython",
    "version": 3
   },
   "file_extension": ".py",
   "mimetype": "text/x-python",
   "name": "python",
   "nbconvert_exporter": "python",
   "pygments_lexer": "ipython3",
   "version": "3.6.1"
  }
 },
 "nbformat": 4,
 "nbformat_minor": 2
}
